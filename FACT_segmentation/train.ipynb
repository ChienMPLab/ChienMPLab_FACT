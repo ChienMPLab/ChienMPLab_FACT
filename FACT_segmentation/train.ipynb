{
 "cells": [
  {
   "cell_type": "code",
   "execution_count": null,
   "metadata": {},
   "outputs": [],
   "source": [
    "import sys\n",
    "sys.path.insert(0, './Src/')\n",
    "\n",
    "\n",
    "import os\n",
    "from os import path, sep, mkdir\n",
    "import numpy as np\n",
    "import cv2\n",
    "from cv2 import imread, imwrite\n",
    "from matplotlib import pyplot as plt\n",
    "import shutil\n",
    "import re\n",
    "import WSPL_func\n",
    "from glob import glob\n",
    "import json\n"
   ]
  },
  {
   "cell_type": "markdown",
   "metadata": {},
   "source": [
    "# Initial information"
   ]
  },
  {
   "cell_type": "code",
   "execution_count": null,
   "metadata": {},
   "outputs": [],
   "source": [
    "cwd = os.getcwd()\n",
    "folder_dataset = f'{cwd}{sep}DataSet_MCF10AGFP'\n",
    "if not path.exists(folder_dataset): print('Can not find the folder!')"
   ]
  },
  {
   "cell_type": "markdown",
   "metadata": {},
   "source": [
    "## Genterate the train folder"
   ]
  },
  {
   "cell_type": "code",
   "execution_count": null,
   "metadata": {},
   "outputs": [],
   "source": [
    "imglist = glob( f'{folder_dataset}{sep}*tif')\n",
    "if len(imglist)>0:\n",
    "    folder_path = path.dirname( imglist[0])\n",
    "    WSPL_func.generate_TrainFolder(folder_path,imglist)"
   ]
  },
  {
   "cell_type": "markdown",
   "metadata": {},
   "source": [
    "## Convert annotation format"
   ]
  },
  {
   "cell_type": "code",
   "execution_count": null,
   "metadata": {},
   "outputs": [],
   "source": [
    "# 1: Nuclues; 2: background; 3: Edge\n",
    "folder_train = f'{folder_dataset}{sep}Train_data'\n",
    "WSPL_func.convert_Annoation( folder_train)"
   ]
  },
  {
   "cell_type": "markdown",
   "metadata": {},
   "source": [
    "## Read the tranning data and generate the image features"
   ]
  },
  {
   "cell_type": "code",
   "execution_count": null,
   "metadata": {},
   "outputs": [],
   "source": [
    "## parameter settings\n",
    "cwd = os.getcwd()\n",
    "folder_train = f'{folder_dataset}{sep}Train_data'\n",
    "folder_model= f'{folder_train}{sep}model'\n",
    "folder_images = f'{folder_train}{sep}images'\n",
    "folder_eval = f'{folder_train}{sep}eval'\n",
    "sigmaarray = np.array( [1,2,4,8]) #@WEKA\n",
    "imgFS, y = WSPL_func.getTrainingData( folder_images, sigmaarray)\n",
    "img_processing_method = np.array( WSPL_func.img_processing_method_template(sigmaarray) )\n",
    "GT_opt = f'{folder_dataset}{sep}GT_Opt'\n",
    "imgFS_GT, xy_total, imgGT = WSPL_func.getGTopt( GT_opt, sigmaarray)\n"
   ]
  },
  {
   "cell_type": "markdown",
   "metadata": {},
   "source": [
    "## TWS CPU"
   ]
  },
  {
   "cell_type": "code",
   "execution_count": null,
   "metadata": {},
   "outputs": [],
   "source": [
    "subFolderName = 'TWS_CPU'\n",
    "\n",
    "\n",
    "modelInfo = {}\n",
    "modelInfo['model_name'] = subFolderName\n",
    "modelInfo['sigmaarray'] = sigmaarray.tolist()\n",
    "\n",
    "sub_folder_model = f'{folder_model}{sep}{subFolderName}'\n",
    "if not path.exists( sub_folder_model): mkdir( sub_folder_model)\n",
    "# json_object = json.dumps(modelInfo, indent = 4)\n",
    "with open(f\"{sub_folder_model}{sep}Model_Info.json\", \"w+\") as outfile:\n",
    "    json.dump(modelInfo, outfile, indent=2)\n",
    "\n",
    "cuml_model = WSPL_func.curfc(\n",
    "    n_estimators=100,\n",
    ")\n",
    "\n",
    "cuml_model.fit(\n",
    "        imgFS,\n",
    "        y[:,2]-1\n",
    "        )\n",
    "WSPL_func.clear_output()\n",
    "\n",
    "\n",
    "modelInfo_tmp = f'{sub_folder_model}{sep}Model_Info.json'\n",
    "model_path = modelInfo_tmp.replace('.json', '.model')\n",
    "WSPL_func.joblib.dump( cuml_model, model_path)"
   ]
  },
  {
   "cell_type": "markdown",
   "metadata": {},
   "source": [
    "## Whole features (GTWS_whole)"
   ]
  },
  {
   "cell_type": "code",
   "execution_count": null,
   "metadata": {},
   "outputs": [],
   "source": [
    "select = np.arange( imgFS.shape[1])\n",
    "kf_num = 5\n",
    "subFolderName = 'GTWS_whole'\n",
    "\n",
    "test_n_setimators = np.array([50, 100, 150]).astype(int)\n",
    "test_max_features = [2, 8, 14]\n",
    "test_max_depth = np.array([8, 16, 24]).astype(int)\n",
    "test_smaples_leaf = np.array([1, 3, 5]).astype(int)\n",
    "\n",
    "parameters_array = WSPL_func.combin_paraterArray( test_n_setimators, test_max_features,\\\n",
    "    test_max_depth, test_smaples_leaf)\n",
    "\n",
    "acc, opt_result = WSPL_func.opt_traing_parameters( select, parameters_array,test_max_features,\\\n",
    "        kf_num, imgFS, y, imgFS_GT, xy_total, imgGT)\n",
    "\n",
    "\n",
    "test_n_setimators = np.array([100, 150, 200]).astype(int)\n",
    "test_max_features = [2, 8, 14]\n",
    "test_max_depth = np.array([4, 8, 12]).astype(int)\n",
    "test_smaples_leaf = np.array([3, 5, 7]).astype(int)\n",
    "\n",
    "parameters_array = WSPL_func.combin_paraterArray( test_n_setimators, test_max_features,\\\n",
    "    test_max_depth, test_smaples_leaf)\n",
    "\n",
    "acc1, opt_result1 = WSPL_func.opt_traing_parameters( select, parameters_array,test_max_features,\\\n",
    "        kf_num, imgFS, y, imgFS_GT, xy_total, imgGT)\n",
    "\n",
    "modelInfo = {}\n",
    "modelInfo['model_name'] = subFolderName\n",
    "modelInfo['sigmaarray'] = sigmaarray.tolist()\n",
    "\n",
    "if acc > acc1:\n",
    "    modelInfo['model_parameters_accuracy'] = acc\n",
    "    modelInfo['model_parameters_name'] = opt_result[0]\n",
    "    modelInfo['model_parameters_value'] = np.array( opt_result[1]).tolist()\n",
    "else:\n",
    "    modelInfo['model_parameters_accuracy'] = acc1\n",
    "    modelInfo['model_parameters_name'] = opt_result1[0]\n",
    "    modelInfo['model_parameters_value'] = np.array( opt_result1[1]).tolist()\n",
    "\n",
    "\n",
    "sub_folder_model = f'{folder_model}{sep}{subFolderName}'\n",
    "if not path.exists( sub_folder_model): mkdir( sub_folder_model)\n",
    "# json_object = json.dumps(modelInfo, indent = 4)\n",
    "with open(f\"{sub_folder_model}{sep}Model_Info.json\", \"w+\") as outfile:\n",
    "    json.dump(modelInfo, outfile, indent=2)"
   ]
  },
  {
   "cell_type": "markdown",
   "metadata": {},
   "source": [
    "## Forward selection (GTWS_selectedfeatures)"
   ]
  },
  {
   "cell_type": "code",
   "execution_count": null,
   "metadata": {},
   "outputs": [],
   "source": [
    "# Find the selected features\n",
    "\n",
    "subFolderName = 'GTWS_selectedfeatures'\n",
    "sub_folder_model = f'{folder_model}{sep}{subFolderName}'\n",
    "if not path.exists( sub_folder_model): mkdir( sub_folder_model)\n",
    "\n",
    "kf_num = 5\n",
    "Top = 9\n",
    "select = WSPL_func.forwardSelection_opt(sub_folder_model, Top,\\\n",
    "    kf_num, imgFS, y, imgFS_GT, xy_total, imgGT)\n",
    "\n",
    "modelInfo = {}\n",
    "modelInfo['model_name'] = subFolderName\n",
    "modelInfo['sigmaarray'] = sigmaarray.tolist()\n",
    "modelInfo['select'] = select.tolist()\n",
    "modelInfo['select_method'] = img_processing_method[select].tolist()\n",
    "\n",
    "# json_object = json.dumps(modelInfo, indent = 4)\n",
    "with open(f\"{sub_folder_model}{sep}Model_Info.json\", \"w+\") as outfile:\n",
    "    json.dump(modelInfo, outfile, indent=2)"
   ]
  },
  {
   "cell_type": "code",
   "execution_count": null,
   "metadata": {},
   "outputs": [],
   "source": [
    "# Opt parameters for RF\n",
    "\n",
    "parameter_folder = f'{folder_model}{sep}{subFolderName}'\n",
    "modelInfo = glob( f'{parameter_folder}{sep}*.json')[0]\n",
    "with open(modelInfo, 'r') as openfile:\n",
    "    modelInfo = json.load(openfile)\n",
    "selec_all = np.array( modelInfo['select'], int)\n",
    "\n",
    "for Top in np.arange( 3, selec_all.size+1):\n",
    "    select = selec_all[:Top]\n",
    "    test_n_setimators = np.array([50, 100, 150]).astype(int)\n",
    "    test_max_features = ['auto']\n",
    "    test_max_depth = np.array([8, 16, 24]).astype(int)\n",
    "    test_smaples_leaf = np.array([1, 3, 5]).astype(int)\n",
    "\n",
    "    parameters_array = WSPL_func.combin_paraterArray( test_n_setimators, test_max_features,\\\n",
    "    test_max_depth, test_smaples_leaf)\n",
    "\n",
    "    acc, opt_result = WSPL_func.opt_traing_parameters( select, parameters_array,test_max_features,\\\n",
    "            kf_num, imgFS, y, imgFS_GT, xy_total, imgGT)\n",
    "\n",
    "\n",
    "    test_n_setimators = np.array([100, 150, 200]).astype(int)\n",
    "    test_max_features = ['auto']\n",
    "    test_max_depth = np.array([4, 8, 12]).astype(int)\n",
    "    test_smaples_leaf = np.array([3, 5, 7]).astype(int)\n",
    "\n",
    "    parameters_array = WSPL_func.combin_paraterArray( test_n_setimators, test_max_features,\\\n",
    "    test_max_depth, test_smaples_leaf)\n",
    "\n",
    "    acc1, opt_result1 = WSPL_func.opt_traing_parameters( select, parameters_array,test_max_features,\\\n",
    "            kf_num, imgFS, y, imgFS_GT, xy_total, imgGT)\n",
    "    \n",
    "    if acc > acc1:\n",
    "        modelInfo['model_parameters_accuracy'] = acc\n",
    "        modelInfo['model_parameters_name'] = opt_result[0]\n",
    "        modelInfo['model_parameters_value'] = np.array( opt_result[1]).tolist()\n",
    "    else:\n",
    "        modelInfo['model_parameters_accuracy'] = acc1\n",
    "        modelInfo['model_parameters_name'] = opt_result1[0]\n",
    "        modelInfo['model_parameters_value'] = np.array( opt_result1[1]).tolist()\n",
    "\n",
    "    modelInfo['select'] = select.tolist()\n",
    "    # json_object = json.dumps(modelInfo, indent = 4)\n",
    "    with open(f\"{parameter_folder}{sep}Model_Info_{Top:02d}.json\", \"w+\") as outfile:\n",
    "        json.dump(modelInfo, outfile, indent=2)"
   ]
  },
  {
   "cell_type": "markdown",
   "metadata": {},
   "source": [
    "## Train the model"
   ]
  },
  {
   "cell_type": "code",
   "execution_count": null,
   "metadata": {},
   "outputs": [],
   "source": [
    "subFolderName = 'GTWS_whole'\n",
    "sub_folder_model = f'{folder_model}{sep}{subFolderName}'\n",
    "modelInfo_tmp = f'{sub_folder_model}{sep}Model_Info.json'\n",
    "WSPL_func.train_model(imgFS , y, modelInfo_tmp)"
   ]
  },
  {
   "cell_type": "code",
   "execution_count": null,
   "metadata": {},
   "outputs": [],
   "source": [
    "subFolderName = 'GTWS_selectedfeatures'\n",
    "sub_folder_model = f'{folder_model}{sep}{subFolderName}'\n",
    "for itop in range( 3,Top+1):\n",
    "    modelInfo_tmp = f'{sub_folder_model}{sep}Model_Info_{itop:02d}.json'\n",
    "    WSPL_func.train_model(imgFS , y, modelInfo_tmp)\n"
   ]
  }
 ],
 "metadata": {
  "kernelspec": {
   "display_name": "Python 3.7.10 ('env-D4')",
   "language": "python",
   "name": "python3"
  },
  "language_info": {
   "codemirror_mode": {
    "name": "ipython",
    "version": 3
   },
   "file_extension": ".py",
   "mimetype": "text/x-python",
   "name": "python",
   "nbconvert_exporter": "python",
   "pygments_lexer": "ipython3",
   "version": "3.7.10"
  },
  "vscode": {
   "interpreter": {
    "hash": "b97b0e9b54c36d149d8f31a3e558b2e2b770ba4473a3b368b82b2dc457fd5e83"
   }
  }
 },
 "nbformat": 4,
 "nbformat_minor": 4
}
